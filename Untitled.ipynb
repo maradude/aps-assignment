{
 "cells": [
  {
   "cell_type": "code",
   "execution_count": null,
   "metadata": {},
   "outputs": [],
   "source": [
    "data Expr = Value Int | Add Expr Expr | Sub Expr Expr\n",
    "eval :: Expr -> Int\n",
    "eval (Value v) = v\n",
    "eval (Add e1 e2) = (eval e1) + (eval e2)\n",
    "eval (Sub e1 e2) = (eval e1) - (eval e2)"
   ]
  },
  {
   "cell_type": "code",
   "execution_count": null,
   "metadata": {},
   "outputs": [],
   "source": [
    "show $ Sub (Add (Value 2) (Value 3)) (Value 4)"
   ]
  },
  {
   "cell_type": "code",
   "execution_count": null,
   "metadata": {},
   "outputs": [],
   "source": []
  }
 ],
 "metadata": {
  "kernelspec": {
   "display_name": "Haskell",
   "language": "haskell",
   "name": "haskell"
  },
  "language_info": {
   "name": ""
  }
 },
 "nbformat": 4,
 "nbformat_minor": 2
}
