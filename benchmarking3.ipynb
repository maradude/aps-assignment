{
 "cells": [
  {
   "cell_type": "markdown",
   "metadata": {},
   "source": [
    "# Benchmarking 1d range search"
   ]
  },
  {
   "cell_type": "code",
   "execution_count": 1,
   "metadata": {},
   "outputs": [],
   "source": [
    "import Task11\n",
    "import Task12\n",
    "import Task21\n",
    "from sanitize_input import Tests\n",
    "import random\n",
    "import numpy as np\n",
    "import matplotlib.pyplot as plt"
   ]
  },
  {
   "cell_type": "code",
   "execution_count": 2,
   "metadata": {},
   "outputs": [],
   "source": [
    "log10 = [random.randrange(1, 1000, 1) for n in range(10)]\n",
    "log100 = [random.randrange(1, 1000, 1) for n in range(100)]\n",
    "log1_000 = [random.randrange(1, 1000, 1) for n in range(1_000)]\n",
    "log10_000 = [random.randrange(1, 1000, 1) for n in range(10_000)]\n",
    "log100_000 = [random.randrange(1, 1000, 1) for n in range(100_000)]\n",
    "log1_000_000 = [random.randrange(1, 1000, 1) for n in range(1_000_000)]\n",
    "n_sizes = [log10, log100, log1_000, log10_000, log100_000, log1_000_000] "
   ]
  },
  {
   "cell_type": "code",
   "execution_count": 3,
   "metadata": {},
   "outputs": [],
   "source": [
    "lbound, ubound = 250, 600"
   ]
  },
  {
   "cell_type": "code",
   "execution_count": 289,
   "metadata": {},
   "outputs": [],
   "source": [
    "def naive_bench(elements, lo, hi):\n",
    "    res = []\n",
    "    for n in elements:\n",
    "        b = len(n)\n",
    "        a = %timeit -o list(Task11.get_range(n, lo, hi))\n",
    "        res.append((b,a))\n",
    "    return res"
   ]
  },
  {
   "cell_type": "markdown",
   "metadata": {},
   "source": [
    "## Naïve"
   ]
  },
  {
   "cell_type": "code",
   "execution_count": 290,
   "metadata": {},
   "outputs": [
    {
     "name": "stdout",
     "output_type": "stream",
     "text": [
      "1.86 µs ± 214 ns per loop (mean ± std. dev. of 7 runs, 100000 loops each)\n",
      "8.16 µs ± 402 ns per loop (mean ± std. dev. of 7 runs, 100000 loops each)\n",
      "71.1 µs ± 5.98 µs per loop (mean ± std. dev. of 7 runs, 10000 loops each)\n",
      "688 µs ± 59.3 µs per loop (mean ± std. dev. of 7 runs, 1000 loops each)\n",
      "7.41 ms ± 855 µs per loop (mean ± std. dev. of 7 runs, 100 loops each)\n",
      "78.7 ms ± 8.76 ms per loop (mean ± std. dev. of 7 runs, 1 loop each)\n"
     ]
    },
    {
     "data": {
      "text/plain": [
       "[(10,\n",
       "  <TimeitResult : 1.86 µs ± 214 ns per loop (mean ± std. dev. of 7 runs, 100000 loops each)>),\n",
       " (100,\n",
       "  <TimeitResult : 8.16 µs ± 402 ns per loop (mean ± std. dev. of 7 runs, 100000 loops each)>),\n",
       " (1000,\n",
       "  <TimeitResult : 71.1 µs ± 5.98 µs per loop (mean ± std. dev. of 7 runs, 10000 loops each)>),\n",
       " (10000,\n",
       "  <TimeitResult : 688 µs ± 59.3 µs per loop (mean ± std. dev. of 7 runs, 1000 loops each)>),\n",
       " (100000,\n",
       "  <TimeitResult : 7.41 ms ± 855 µs per loop (mean ± std. dev. of 7 runs, 100 loops each)>),\n",
       " (1000000,\n",
       "  <TimeitResult : 78.7 ms ± 8.76 ms per loop (mean ± std. dev. of 7 runs, 1 loop each)>)]"
      ]
     },
     "execution_count": 290,
     "metadata": {},
     "output_type": "execute_result"
    }
   ],
   "source": [
    "naive_bench(n_sizes, lo, hi)"
   ]
  },
  {
   "cell_type": "markdown",
   "metadata": {},
   "source": [
    "Above is the naïve implementation times, as you can see it looks like a constant operation from ten to a million"
   ]
  },
  {
   "cell_type": "markdown",
   "metadata": {},
   "source": [
    "## Binary search, build + search"
   ]
  },
  {
   "cell_type": "code",
   "execution_count": 5,
   "metadata": {},
   "outputs": [],
   "source": [
    "def b_search_with_build(elements, lo, hi):\n",
    "    res = []\n",
    "    for n in elements:\n",
    "        b = len(n)\n",
    "        a = %timeit -o Task12.SortedRangeList(n).get_range(lo, hi)\n",
    "        res.append((b,a))\n",
    "    return res"
   ]
  },
  {
   "cell_type": "code",
   "execution_count": 114,
   "metadata": {},
   "outputs": [
    {
     "name": "stdout",
     "output_type": "stream",
     "text": [
      "5.67 µs ± 11.7 ns per loop (mean ± std. dev. of 7 runs, 100000 loops each)\n",
      "12.5 µs ± 65.3 ns per loop (mean ± std. dev. of 7 runs, 100000 loops each)\n",
      "139 µs ± 12.2 µs per loop (mean ± std. dev. of 7 runs, 10000 loops each)\n",
      "1.7 ms ± 49.4 µs per loop (mean ± std. dev. of 7 runs, 1000 loops each)\n",
      "21.7 ms ± 1.62 ms per loop (mean ± std. dev. of 7 runs, 100 loops each)\n",
      "261 ms ± 24 ms per loop (mean ± std. dev. of 7 runs, 1 loop each)\n"
     ]
    },
    {
     "data": {
      "text/plain": [
       "[(10,\n",
       "  <TimeitResult : 5.67 µs ± 11.7 ns per loop (mean ± std. dev. of 7 runs, 100000 loops each)>),\n",
       " (100,\n",
       "  <TimeitResult : 12.5 µs ± 65.3 ns per loop (mean ± std. dev. of 7 runs, 100000 loops each)>),\n",
       " (1000,\n",
       "  <TimeitResult : 139 µs ± 12.2 µs per loop (mean ± std. dev. of 7 runs, 10000 loops each)>),\n",
       " (10000,\n",
       "  <TimeitResult : 1.7 ms ± 49.4 µs per loop (mean ± std. dev. of 7 runs, 1000 loops each)>),\n",
       " (100000,\n",
       "  <TimeitResult : 21.7 ms ± 1.62 ms per loop (mean ± std. dev. of 7 runs, 100 loops each)>),\n",
       " (1000000,\n",
       "  <TimeitResult : 261 ms ± 24 ms per loop (mean ± std. dev. of 7 runs, 1 loop each)>)]"
      ]
     },
     "execution_count": 114,
     "metadata": {},
     "output_type": "execute_result"
    }
   ],
   "source": [
    "b_search_with_build(n_sizes, lbound, ubound)"
   ]
  },
  {
   "cell_type": "markdown",
   "metadata": {},
   "source": [
    "## Rangetree, build + search"
   ]
  },
  {
   "cell_type": "code",
   "execution_count": 6,
   "metadata": {},
   "outputs": [],
   "source": [
    "def tree_search_with_build(elements, lo, hi):\n",
    "    res = []\n",
    "    for n in elements:\n",
    "        b = len(n)\n",
    "        a = %timeit -o Task21.RangeTree(n).one_d_range_query(lo, hi)\n",
    "        res.append((b,a))\n",
    "    return res"
   ]
  },
  {
   "cell_type": "code",
   "execution_count": 120,
   "metadata": {},
   "outputs": [
    {
     "name": "stdout",
     "output_type": "stream",
     "text": [
      "28 µs ± 4.92 µs per loop (mean ± std. dev. of 7 runs, 10000 loops each)\n",
      "305 µs ± 44 µs per loop (mean ± std. dev. of 7 runs, 1000 loops each)\n",
      "2.82 ms ± 254 µs per loop (mean ± std. dev. of 7 runs, 100 loops each)\n",
      "34 ms ± 3.71 ms per loop (mean ± std. dev. of 7 runs, 10 loops each)\n",
      "369 ms ± 20.4 ms per loop (mean ± std. dev. of 7 runs, 1 loop each)\n",
      "3.79 s ± 300 ms per loop (mean ± std. dev. of 7 runs, 1 loop each)\n"
     ]
    },
    {
     "data": {
      "text/plain": [
       "[(10,\n",
       "  <TimeitResult : 28 µs ± 4.92 µs per loop (mean ± std. dev. of 7 runs, 10000 loops each)>),\n",
       " (100,\n",
       "  <TimeitResult : 305 µs ± 44 µs per loop (mean ± std. dev. of 7 runs, 1000 loops each)>),\n",
       " (1000,\n",
       "  <TimeitResult : 2.82 ms ± 254 µs per loop (mean ± std. dev. of 7 runs, 100 loops each)>),\n",
       " (10000,\n",
       "  <TimeitResult : 34 ms ± 3.71 ms per loop (mean ± std. dev. of 7 runs, 10 loops each)>),\n",
       " (100000,\n",
       "  <TimeitResult : 369 ms ± 20.4 ms per loop (mean ± std. dev. of 7 runs, 1 loop each)>),\n",
       " (1000000,\n",
       "  <TimeitResult : 3.79 s ± 300 ms per loop (mean ± std. dev. of 7 runs, 1 loop each)>)]"
      ]
     },
     "execution_count": 120,
     "metadata": {},
     "output_type": "execute_result"
    }
   ],
   "source": [
    "tree_search_with_build(n_sizes, lbound, ubound)"
   ]
  },
  {
   "cell_type": "markdown",
   "metadata": {},
   "source": [
    "## Time to build RangeTee "
   ]
  },
  {
   "cell_type": "code",
   "execution_count": 7,
   "metadata": {},
   "outputs": [],
   "source": [
    "def build_range_tree(elements, *_):\n",
    "    res = []\n",
    "    for n in elements:\n",
    "        b = len(n)\n",
    "        a = %timeit -o Task21.RangeTree(n)\n",
    "        res.append((b,a))\n",
    "    return res"
   ]
  },
  {
   "cell_type": "code",
   "execution_count": 136,
   "metadata": {},
   "outputs": [
    {
     "name": "stdout",
     "output_type": "stream",
     "text": [
      "20 µs ± 2.13 µs per loop (mean ± std. dev. of 7 runs, 10000 loops each)\n",
      "224 µs ± 29.1 µs per loop (mean ± std. dev. of 7 runs, 1000 loops each)\n",
      "2.63 ms ± 591 µs per loop (mean ± std. dev. of 7 runs, 100 loops each)\n",
      "45.1 ms ± 20 ms per loop (mean ± std. dev. of 7 runs, 10 loops each)\n",
      "390 ms ± 38.5 ms per loop (mean ± std. dev. of 7 runs, 1 loop each)\n",
      "3.03 s ± 180 ms per loop (mean ± std. dev. of 7 runs, 1 loop each)\n"
     ]
    },
    {
     "data": {
      "text/plain": [
       "[(10,\n",
       "  <TimeitResult : 20 µs ± 2.13 µs per loop (mean ± std. dev. of 7 runs, 10000 loops each)>),\n",
       " (100,\n",
       "  <TimeitResult : 224 µs ± 29.1 µs per loop (mean ± std. dev. of 7 runs, 1000 loops each)>),\n",
       " (1000,\n",
       "  <TimeitResult : 2.63 ms ± 591 µs per loop (mean ± std. dev. of 7 runs, 100 loops each)>),\n",
       " (10000,\n",
       "  <TimeitResult : 45.1 ms ± 20 ms per loop (mean ± std. dev. of 7 runs, 10 loops each)>),\n",
       " (100000,\n",
       "  <TimeitResult : 390 ms ± 38.5 ms per loop (mean ± std. dev. of 7 runs, 1 loop each)>),\n",
       " (1000000,\n",
       "  <TimeitResult : 3.03 s ± 180 ms per loop (mean ± std. dev. of 7 runs, 1 loop each)>)]"
      ]
     },
     "execution_count": 136,
     "metadata": {},
     "output_type": "execute_result"
    }
   ],
   "source": [
    "build_range_tree(n_sizes, lbound, ubound)"
   ]
  },
  {
   "cell_type": "markdown",
   "metadata": {},
   "source": [
    "## Time to build sorted range list (i.e. timsort)"
   ]
  },
  {
   "cell_type": "code",
   "execution_count": 8,
   "metadata": {},
   "outputs": [],
   "source": [
    "def build_sorted_list(elements, *_):\n",
    "    res = []\n",
    "    for n in elements:\n",
    "        b = len(n)\n",
    "        a = %timeit -o Task12.SortedRangeList(n)\n",
    "        res.append((b,a))\n",
    "    return res"
   ]
  },
  {
   "cell_type": "code",
   "execution_count": 134,
   "metadata": {},
   "outputs": [
    {
     "name": "stdout",
     "output_type": "stream",
     "text": [
      "1.23 µs ± 28.1 ns per loop (mean ± std. dev. of 7 runs, 1000000 loops each)\n",
      "7.55 µs ± 740 ns per loop (mean ± std. dev. of 7 runs, 100000 loops each)\n",
      "118 µs ± 10.2 µs per loop (mean ± std. dev. of 7 runs, 10000 loops each)\n",
      "1.83 ms ± 356 µs per loop (mean ± std. dev. of 7 runs, 1000 loops each)\n",
      "23.2 ms ± 2.92 ms per loop (mean ± std. dev. of 7 runs, 10 loops each)\n",
      "261 ms ± 24.4 ms per loop (mean ± std. dev. of 7 runs, 1 loop each)\n"
     ]
    },
    {
     "data": {
      "text/plain": [
       "[(10,\n",
       "  <TimeitResult : 1.23 µs ± 28.1 ns per loop (mean ± std. dev. of 7 runs, 1000000 loops each)>),\n",
       " (100,\n",
       "  <TimeitResult : 7.55 µs ± 740 ns per loop (mean ± std. dev. of 7 runs, 100000 loops each)>),\n",
       " (1000,\n",
       "  <TimeitResult : 118 µs ± 10.2 µs per loop (mean ± std. dev. of 7 runs, 10000 loops each)>),\n",
       " (10000,\n",
       "  <TimeitResult : 1.83 ms ± 356 µs per loop (mean ± std. dev. of 7 runs, 1000 loops each)>),\n",
       " (100000,\n",
       "  <TimeitResult : 23.2 ms ± 2.92 ms per loop (mean ± std. dev. of 7 runs, 10 loops each)>),\n",
       " (1000000,\n",
       "  <TimeitResult : 261 ms ± 24.4 ms per loop (mean ± std. dev. of 7 runs, 1 loop each)>)]"
      ]
     },
     "execution_count": 134,
     "metadata": {},
     "output_type": "execute_result"
    }
   ],
   "source": [
    "build_sorted_list(n_sizes, lbound, ubound)"
   ]
  },
  {
   "cell_type": "markdown",
   "metadata": {},
   "source": [
    "## Rangtree pre built tree search"
   ]
  },
  {
   "cell_type": "code",
   "execution_count": 296,
   "metadata": {},
   "outputs": [],
   "source": [
    "def tree_search_only(elements, lo, hi):\n",
    "    objs = (Task21.RangeTree(e) for e in elements)\n",
    "    res = []\n",
    "    for i, n in enumerate(objs):\n",
    "        b = 10**(i+1)\n",
    "        a = %timeit -o n.one_d_range_query(lo, hi)\n",
    "        res.append((b,a))\n",
    "    return res"
   ]
  },
  {
   "cell_type": "code",
   "execution_count": 130,
   "metadata": {},
   "outputs": [
    {
     "name": "stdout",
     "output_type": "stream",
     "text": [
      "4.97 µs ± 287 ns per loop (mean ± std. dev. of 7 runs, 100000 loops each)\n",
      "48.2 µs ± 2.12 µs per loop (mean ± std. dev. of 7 runs, 10000 loops each)\n",
      "585 µs ± 106 µs per loop (mean ± std. dev. of 7 runs, 1000 loops each)\n",
      "5.35 ms ± 1.66 ms per loop (mean ± std. dev. of 7 runs, 100 loops each)\n",
      "44.6 ms ± 3.58 ms per loop (mean ± std. dev. of 7 runs, 10 loops each)\n",
      "457 ms ± 40.2 ms per loop (mean ± std. dev. of 7 runs, 1 loop each)\n"
     ]
    },
    {
     "data": {
      "text/plain": [
       "[(1,\n",
       "  <TimeitResult : 4.97 µs ± 287 ns per loop (mean ± std. dev. of 7 runs, 100000 loops each)>),\n",
       " (2,\n",
       "  <TimeitResult : 48.2 µs ± 2.12 µs per loop (mean ± std. dev. of 7 runs, 10000 loops each)>),\n",
       " (3,\n",
       "  <TimeitResult : 585 µs ± 106 µs per loop (mean ± std. dev. of 7 runs, 1000 loops each)>),\n",
       " (4,\n",
       "  <TimeitResult : 5.35 ms ± 1.66 ms per loop (mean ± std. dev. of 7 runs, 100 loops each)>),\n",
       " (5,\n",
       "  <TimeitResult : 44.6 ms ± 3.58 ms per loop (mean ± std. dev. of 7 runs, 10 loops each)>),\n",
       " (6,\n",
       "  <TimeitResult : 457 ms ± 40.2 ms per loop (mean ± std. dev. of 7 runs, 1 loop each)>)]"
      ]
     },
     "execution_count": 130,
     "metadata": {},
     "output_type": "execute_result"
    }
   ],
   "source": [
    "tree_search_only(n_sizes, lbound, ubound)"
   ]
  },
  {
   "cell_type": "markdown",
   "metadata": {},
   "source": [
    "## Binary search, presorted search"
   ]
  },
  {
   "cell_type": "code",
   "execution_count": 297,
   "metadata": {},
   "outputs": [],
   "source": [
    "def b_search_only(elements, lo, hi):\n",
    "    objs = (Task12.SortedRangeList(e) for e in elements)\n",
    "    res = []\n",
    "    for i, n in enumerate(objs):\n",
    "        b = 10**(i+1)\n",
    "        a = %timeit -o n.get_range(lbound, ubound)\n",
    "        res.append((b,a))\n",
    "    return res"
   ]
  },
  {
   "cell_type": "code",
   "execution_count": 194,
   "metadata": {},
   "outputs": [
    {
     "name": "stdout",
     "output_type": "stream",
     "text": [
      "4.33 µs ± 103 ns per loop (mean ± std. dev. of 7 runs, 100000 loops each)\n",
      "6.73 µs ± 413 ns per loop (mean ± std. dev. of 7 runs, 100000 loops each)\n",
      "11.3 µs ± 363 ns per loop (mean ± std. dev. of 7 runs, 100000 loops each)\n",
      "33.4 µs ± 3.24 µs per loop (mean ± std. dev. of 7 runs, 10000 loops each)\n",
      "296 µs ± 48.1 µs per loop (mean ± std. dev. of 7 runs, 1000 loops each)\n",
      "14.3 ms ± 401 µs per loop (mean ± std. dev. of 7 runs, 100 loops each)\n"
     ]
    },
    {
     "data": {
      "text/plain": [
       "[(10,\n",
       "  '4.33 µs ± 103 ns per loop (mean ± std. dev. of 7 runs, 100000 loops each)'),\n",
       " (100,\n",
       "  '6.73 µs ± 413 ns per loop (mean ± std. dev. of 7 runs, 100000 loops each)'),\n",
       " (1000,\n",
       "  '11.3 µs ± 363 ns per loop (mean ± std. dev. of 7 runs, 100000 loops each)'),\n",
       " (10000,\n",
       "  '33.4 µs ± 3.24 µs per loop (mean ± std. dev. of 7 runs, 10000 loops each)'),\n",
       " (100000,\n",
       "  '296 µs ± 48.1 µs per loop (mean ± std. dev. of 7 runs, 1000 loops each)'),\n",
       " (1000000,\n",
       "  '14.3 ms ± 401 µs per loop (mean ± std. dev. of 7 runs, 100 loops each)')]"
      ]
     },
     "execution_count": 194,
     "metadata": {},
     "output_type": "execute_result"
    }
   ],
   "source": [
    "b_search_only(n_sizes, lbound, ubound)"
   ]
  },
  {
   "cell_type": "code",
   "execution_count": 291,
   "metadata": {},
   "outputs": [],
   "source": [
    "def print_thing(r):\n",
    "    return [(i, m.average, m.stdev) for i, m in r]"
   ]
  },
  {
   "cell_type": "code",
   "execution_count": 292,
   "metadata": {},
   "outputs": [],
   "source": [
    "def try_bounds(es, l, u):\n",
    "    funcs = [naive_bench, b_search_with_build, tree_search_with_build,\n",
    "             build_range_tree, build_sorted_list, tree_search_only,\n",
    "             b_search_only]\n",
    "    return [(r.__name__, print_thing(r(es, l, u))) for r in funcs]"
   ]
  },
  {
   "cell_type": "code",
   "execution_count": 298,
   "metadata": {},
   "outputs": [
    {
     "name": "stdout",
     "output_type": "stream",
     "text": [
      "1.78 µs ± 171 ns per loop (mean ± std. dev. of 7 runs, 100000 loops each)\n",
      "10 µs ± 953 ns per loop (mean ± std. dev. of 7 runs, 100000 loops each)\n",
      "91.3 µs ± 3.86 µs per loop (mean ± std. dev. of 7 runs, 10000 loops each)\n",
      "1.09 ms ± 261 µs per loop (mean ± std. dev. of 7 runs, 100 loops each)\n",
      "9.71 ms ± 533 µs per loop (mean ± std. dev. of 7 runs, 100 loops each)\n",
      "96.5 ms ± 7.63 ms per loop (mean ± std. dev. of 7 runs, 10 loops each)\n",
      "5.84 µs ± 518 ns per loop (mean ± std. dev. of 7 runs, 100000 loops each)\n",
      "13.6 µs ± 613 ns per loop (mean ± std. dev. of 7 runs, 100000 loops each)\n",
      "134 µs ± 5.9 µs per loop (mean ± std. dev. of 7 runs, 10000 loops each)\n",
      "1.58 ms ± 49.2 µs per loop (mean ± std. dev. of 7 runs, 1000 loops each)\n",
      "21.2 ms ± 2.12 ms per loop (mean ± std. dev. of 7 runs, 100 loops each)\n",
      "271 ms ± 24.8 ms per loop (mean ± std. dev. of 7 runs, 1 loop each)\n",
      "25.4 µs ± 3.38 µs per loop (mean ± std. dev. of 7 runs, 10000 loops each)\n",
      "298 µs ± 41.9 µs per loop (mean ± std. dev. of 7 runs, 1000 loops each)\n",
      "2.73 ms ± 300 µs per loop (mean ± std. dev. of 7 runs, 100 loops each)\n",
      "33.5 ms ± 4.96 ms per loop (mean ± std. dev. of 7 runs, 10 loops each)\n",
      "351 ms ± 34.2 ms per loop (mean ± std. dev. of 7 runs, 1 loop each)\n",
      "3.59 s ± 57.9 ms per loop (mean ± std. dev. of 7 runs, 1 loop each)\n",
      "29.7 µs ± 11.6 µs per loop (mean ± std. dev. of 7 runs, 10000 loops each)\n",
      "312 µs ± 116 µs per loop (mean ± std. dev. of 7 runs, 1000 loops each)\n",
      "2.29 ms ± 92.6 µs per loop (mean ± std. dev. of 7 runs, 100 loops each)\n",
      "28.9 ms ± 2.44 ms per loop (mean ± std. dev. of 7 runs, 10 loops each)\n",
      "317 ms ± 15.5 ms per loop (mean ± std. dev. of 7 runs, 1 loop each)\n",
      "3.4 s ± 474 ms per loop (mean ± std. dev. of 7 runs, 1 loop each)\n",
      "1.37 µs ± 186 ns per loop (mean ± std. dev. of 7 runs, 1000000 loops each)\n",
      "5.97 µs ± 297 ns per loop (mean ± std. dev. of 7 runs, 100000 loops each)\n",
      "117 µs ± 4.7 µs per loop (mean ± std. dev. of 7 runs, 10000 loops each)\n",
      "1.63 ms ± 78.4 µs per loop (mean ± std. dev. of 7 runs, 1000 loops each)\n",
      "19.7 ms ± 742 µs per loop (mean ± std. dev. of 7 runs, 100 loops each)\n",
      "310 ms ± 63.6 ms per loop (mean ± std. dev. of 7 runs, 1 loop each)\n",
      "4.86 µs ± 505 ns per loop (mean ± std. dev. of 7 runs, 100000 loops each)\n",
      "45.7 µs ± 6.51 µs per loop (mean ± std. dev. of 7 runs, 10000 loops each)\n",
      "439 µs ± 49 µs per loop (mean ± std. dev. of 7 runs, 1000 loops each)\n",
      "4.75 ms ± 542 µs per loop (mean ± std. dev. of 7 runs, 100 loops each)\n",
      "46.4 ms ± 3.66 ms per loop (mean ± std. dev. of 7 runs, 10 loops each)\n",
      "442 ms ± 8.41 ms per loop (mean ± std. dev. of 7 runs, 1 loop each)\n",
      "4.08 µs ± 450 ns per loop (mean ± std. dev. of 7 runs, 100000 loops each)\n",
      "6.98 µs ± 804 ns per loop (mean ± std. dev. of 7 runs, 100000 loops each)\n",
      "11.3 µs ± 453 ns per loop (mean ± std. dev. of 7 runs, 100000 loops each)\n",
      "33.9 µs ± 3.73 µs per loop (mean ± std. dev. of 7 runs, 10000 loops each)\n",
      "375 µs ± 63.5 µs per loop (mean ± std. dev. of 7 runs, 1000 loops each)\n",
      "16 ms ± 1.99 ms per loop (mean ± std. dev. of 7 runs, 100 loops each)\n"
     ]
    }
   ],
   "source": [
    "dis = try_bounds(n_sizes, 250, 600)"
   ]
  },
  {
   "cell_type": "code",
   "execution_count": 299,
   "metadata": {},
   "outputs": [
    {
     "data": {
      "text/plain": [
       "[('naive_bench',\n",
       "  [(10, 1.7798587842740483e-06, 1.7108047403252481e-07),\n",
       "   (100, 9.995778061420424e-06, 9.526263795376915e-07),\n",
       "   (1000, 9.134508938586805e-05, 3.856228358667777e-06),\n",
       "   (10000, 0.001090744522849231, 0.000261187143820951),\n",
       "   (100000, 0.009706109454294036, 0.0005331442958789358),\n",
       "   (1000000, 0.09651013637163228, 0.007625692738159397)]),\n",
       " ('b_search_with_build',\n",
       "  [(10, 5.841283141437868e-06, 5.1826064560528e-07),\n",
       "   (100, 1.3554745098569713e-05, 6.12542412405346e-07),\n",
       "   (1000, 0.00013405363702851381, 5.895418811610626e-06),\n",
       "   (10000, 0.0015821273601406055, 4.92319251195153e-05),\n",
       "   (100000, 0.021203791804281145, 0.002117211280815397),\n",
       "   (1000000, 0.27112553585694904, 0.024770253749909522)]),\n",
       " ('tree_search_with_build',\n",
       "  [(10, 2.5437025114349254e-05, 3.375107135435619e-06),\n",
       "   (100, 0.00029840721300154527, 4.18877282296718e-05),\n",
       "   (1000, 0.0027287864356912903, 0.0003003139774463512),\n",
       "   (10000, 0.03346362878572628, 0.004960123293754702),\n",
       "   (100000, 0.3508174564277787, 0.03415135590995714),\n",
       "   (1000000, 3.5895463598551163, 0.05793741648845321)]),\n",
       " ('build_range_tree',\n",
       "  [(10, 2.968491152860224e-05, 1.155119820936482e-05),\n",
       "   (100, 0.00031194998771492727, 0.00011566259205404689),\n",
       "   (1000, 0.0022877482171419876, 9.259161524472219e-05),\n",
       "   (10000, 0.02893670088576203, 0.0024421912964007223),\n",
       "   (100000, 0.31655945342832376, 0.015506265520659968),\n",
       "   (1000000, 3.4049002814281266, 0.4736975432806089)]),\n",
       " ('build_sorted_list',\n",
       "  [(10, 1.3652888330003146e-06, 1.8593140317849566e-07),\n",
       "   (100, 5.970004801451328e-06, 2.9675540213627226e-07),\n",
       "   (1000, 0.0001173675818999722, 4.702593651783922e-06),\n",
       "   (10000, 0.0016260491455749226, 7.841622837337192e-05),\n",
       "   (100000, 0.019664168547159144, 0.0007418951884778142),\n",
       "   (1000000, 0.30989630814188523, 0.06362530516278701)]),\n",
       " ('tree_search_only',\n",
       "  [(10, 4.861790634282183e-06, 5.045276147855907e-07),\n",
       "   (100, 4.574116291436699e-05, 6.506502562928906e-06),\n",
       "   (1000, 0.00043863381785714796, 4.89775979941007e-05),\n",
       "   (10000, 0.004747198101415831, 0.0005417445355623441),\n",
       "   (100000, 0.046423704200008485, 0.0036568968920705396),\n",
       "   (1000000, 0.44187364957075, 0.008413003702445394)]),\n",
       " ('b_search_only',\n",
       "  [(10, 4.079648202865168e-06, 4.4999354358636534e-07),\n",
       "   (100, 6.9836546085883e-06, 8.037879493944756e-07),\n",
       "   (1000, 1.1323625571416674e-05, 4.5297258832130885e-07),\n",
       "   (10000, 3.3878094142606386e-05, 3.730666449697624e-06),\n",
       "   (100000, 0.0003754347184294602, 6.346870839146029e-05),\n",
       "   (1000000, 0.016040898764279388, 0.001991237376248938)])]"
      ]
     },
     "execution_count": 299,
     "metadata": {},
     "output_type": "execute_result"
    }
   ],
   "source": [
    "dis"
   ]
  },
  {
   "cell_type": "code",
   "execution_count": 30,
   "metadata": {},
   "outputs": [],
   "source": [
    "\n",
    "\n",
    "with open('results.txt', 'w') as f:\n",
    "    af = '\\n'.join(str(e) for e in dis)\n",
    "    f.write(af)"
   ]
  },
  {
   "cell_type": "code",
   "execution_count": 13,
   "metadata": {},
   "outputs": [
    {
     "name": "stdout",
     "output_type": "stream",
     "text": [
      "2.9 µs ± 350 ns per loop (mean ± std. dev. of 7 runs, 100000 loops each)\n",
      "20.3 µs ± 662 ns per loop (mean ± std. dev. of 7 runs, 100000 loops each)\n",
      "115 µs ± 4.72 µs per loop (mean ± std. dev. of 7 runs, 10000 loops each)\n",
      "1.29 ms ± 142 µs per loop (mean ± std. dev. of 7 runs, 1000 loops each)\n",
      "11.7 ms ± 385 µs per loop (mean ± std. dev. of 7 runs, 100 loops each)\n",
      "116 ms ± 4.65 ms per loop (mean ± std. dev. of 7 runs, 10 loops each)\n"
     ]
    },
    {
     "data": {
      "text/plain": [
       "[('tree_search_only',\n",
       "  [(2.8999601542857176e-06, 3.504071019637747e-07),\n",
       "   (2.0304450602857145e-05, 6.621625504465378e-07),\n",
       "   (0.00011460161005714287, 4.724764746281523e-06),\n",
       "   (0.0012919777634285694, 0.00014196427610555076),\n",
       "   (0.011654931861428578, 0.00038455266442477743),\n",
       "   (0.11613322537142838, 0.0046533986553303755)])]"
      ]
     },
     "execution_count": 13,
     "metadata": {},
     "output_type": "execute_result"
    }
   ],
   "source": [
    "try_bounds(n_sizes, 0, 100)"
   ]
  },
  {
   "cell_type": "code",
   "execution_count": 211,
   "metadata": {},
   "outputs": [
    {
     "data": {
      "text/plain": [
       "<TimeitResult : 21.5 µs ± 6.06 µs per loop (mean ± std. dev. of 7 runs, 10000 loops each)>"
      ]
     },
     "execution_count": 211,
     "metadata": {},
     "output_type": "execute_result"
    }
   ],
   "source": [
    "m"
   ]
  },
  {
   "cell_type": "code",
   "execution_count": 212,
   "metadata": {},
   "outputs": [
    {
     "data": {
      "text/plain": [
       "[0.36303861900069023,\n",
       " 0.1910119290005241,\n",
       " 0.1941487620006228,\n",
       " 0.18847332099994674,\n",
       " 0.1899927980002758,\n",
       " 0.18836639300025126,\n",
       " 0.18761721099963324]"
      ]
     },
     "execution_count": 212,
     "metadata": {},
     "output_type": "execute_result"
    }
   ],
   "source": [
    "m.all_runs"
   ]
  },
  {
   "cell_type": "code",
   "execution_count": 216,
   "metadata": {},
   "outputs": [
    {
     "data": {
      "text/plain": [
       "0.2146641475717063"
      ]
     },
     "execution_count": 216,
     "metadata": {},
     "output_type": "execute_result"
    }
   ],
   "source": [
    "m.average * m.loops"
   ]
  },
  {
   "cell_type": "code",
   "execution_count": 218,
   "metadata": {},
   "outputs": [
    {
     "data": {
      "text/plain": [
       "0.21466414757170632"
      ]
     },
     "execution_count": 218,
     "metadata": {},
     "output_type": "execute_result"
    }
   ],
   "source": [
    "sum(m.all_runs)/len(m.all_runs)"
   ]
  },
  {
   "cell_type": "code",
   "execution_count": 237,
   "metadata": {},
   "outputs": [
    {
     "data": {
      "text/plain": [
       "[623, 661, 691, 116, 333, 366, 631, 423, 712, 764]"
      ]
     },
     "execution_count": 237,
     "metadata": {},
     "output_type": "execute_result"
    }
   ],
   "source": [
    "log10"
   ]
  },
  {
   "cell_type": "markdown",
   "metadata": {},
   "source": [
    "## plot plan\n",
    "Plan is probably to display the data from a np dataframe to matplotlib. The plot will probably be line graphs with ranges such as: precise (within 20%), with all on 1 side of median and not, broad (80%), middle (50%) and 1 element query. "
   ]
  },
  {
   "cell_type": "code",
   "execution_count": null,
   "metadata": {},
   "outputs": [],
   "source": [
    "%matplotlib inline"
   ]
  },
  {
   "cell_type": "code",
   "execution_count": 308,
   "metadata": {},
   "outputs": [],
   "source": [
    "# naive_bench, b_search_with_build, tree_search_with_build, build_range_tree, build_sorted_list, tree_search_only, b_search_only\n",
    "names = [\"Bruteforce\", \"Binary search + build\", \"Tree search + build\", \"Build Tree\", \"Sort Array\", \"Tree search\", \"Binary search\"]"
   ]
  },
  {
   "cell_type": "code",
   "execution_count": 309,
   "metadata": {},
   "outputs": [
    {
     "name": "stdout",
     "output_type": "stream",
     "text": [
      "[1.77985878e-06 9.99577806e-06 9.13450894e-05 1.09074452e-03\n",
      " 9.70610945e-03 9.65101364e-02] woot [1.71080474e-07 9.52626380e-07 3.85622836e-06 2.61187144e-04\n",
      " 5.33144296e-04 7.62569274e-03]\n",
      "[5.84128314e-06 1.35547451e-05 1.34053637e-04 1.58212736e-03\n",
      " 2.12037918e-02 2.71125536e-01] woot [5.18260646e-07 6.12542412e-07 5.89541881e-06 4.92319251e-05\n",
      " 2.11721128e-03 2.47702537e-02]\n",
      "[2.54370251e-05 2.98407213e-04 2.72878644e-03 3.34636288e-02\n",
      " 3.50817456e-01 3.58954636e+00] woot [3.37510714e-06 4.18877282e-05 3.00313977e-04 4.96012329e-03\n",
      " 3.41513559e-02 5.79374165e-02]\n",
      "[2.96849115e-05 3.11949988e-04 2.28774822e-03 2.89367009e-02\n",
      " 3.16559453e-01 3.40490028e+00] woot [1.15511982e-05 1.15662592e-04 9.25916152e-05 2.44219130e-03\n",
      " 1.55062655e-02 4.73697543e-01]\n",
      "[1.36528883e-06 5.97000480e-06 1.17367582e-04 1.62604915e-03\n",
      " 1.96641685e-02 3.09896308e-01] woot [1.85931403e-07 2.96755402e-07 4.70259365e-06 7.84162284e-05\n",
      " 7.41895188e-04 6.36253052e-02]\n",
      "[4.86179063e-06 4.57411629e-05 4.38633818e-04 4.74719810e-03\n",
      " 4.64237042e-02 4.41873650e-01] woot [5.04527615e-07 6.50650256e-06 4.89775980e-05 5.41744536e-04\n",
      " 3.65689689e-03 8.41300370e-03]\n",
      "[4.07964820e-06 6.98365461e-06 1.13236256e-05 3.38780941e-05\n",
      " 3.75434718e-04 1.60408988e-02] woot [4.49993544e-07 8.03787949e-07 4.52972588e-07 3.73066645e-06\n",
      " 6.34687084e-05 1.99123738e-03]\n"
     ]
    },
    {
     "data": {
      "text/plain": [
       "Text(0.5, 1.0, 'Time taken for a single 1d range search')"
      ]
     },
     "execution_count": 309,
     "metadata": {},
     "output_type": "execute_result"
    },
    {
     "data": {
      "image/png": "[encoded data removed]",
      "text/plain": [
       "<Figure size 928.8x574.03 with 1 Axes>"
      ]
     },
     "metadata": {
      "needs_background": "light"
     },
     "output_type": "display_data"
    }
   ],
   "source": [
    "fig, ax = plt.subplots()\n",
    "le = len(n_sizes)\n",
    "for p,i in enumerate(dis):\n",
    "#    b = np.array([e[0] for e in i[1]])\n",
    "#    fig = plt.bar([10**i for i in range(1,6)], b)\n",
    "#    plt.plot(b)\n",
    "    a = [str(10**i) for i in range(1,7)]\n",
    "#    a = np.arange(p, le**2+p, len(dis))\n",
    "    plt.yscale('log')\n",
    "    err = np.array([e[2] for e in i[1]])\n",
    "    v = np.array([e[1] for e in i[1]])\n",
    "    print(v,'woot', err)\n",
    "    ax.errorbar(a, v, err, fmt='-|', elinewidth=10, barsabove=1, label=names[p])\n",
    "    ax.legend()\n",
    "#    plt.legend()\n",
    "#    a = np.array([e[1] for e in i[1]])\n",
    "#    plt.errorbar(b,a)\n",
    "#    plt.errorbar(x, y, xerr=asymmetric_error, fmt='o')\n",
    "ax.set_xlabel(\"Amount of points\")\n",
    "ax.set_ylabel(\"Seconds (log scale)\")\n",
    "ax.set_title(\"Time taken for a single 1d range search\")\n",
    "#plt.axis([10, int(1e6), 0, 4])"
   ]
  },
  {
   "cell_type": "code",
   "execution_count": 310,
   "metadata": {},
   "outputs": [],
   "source": [
    "#plt.tight_layout()\n",
    "#format_axes(ax)\n",
    "fig.savefig(\"250-600_plot.png\")"
   ]
  },
  {
   "cell_type": "code",
   "execution_count": 181,
   "metadata": {},
   "outputs": [
    {
     "data": {
      "text/plain": [
       "[(1.0540555228577172e-06, 3.9985999144381774e-07),\n",
       " (8.583835408572408e-07, 6.095037198397183e-08),\n",
       " (8.604751715715143e-07, 1.6855399481108555e-07),\n",
       " (8.416658744285997e-07, 9.252991402602635e-08),\n",
       " (8.275391888571123e-07, 8.38129942548391e-08),\n",
       " (7.979017315713983e-07, 6.594840491951316e-08)]"
      ]
     },
     "execution_count": 181,
     "metadata": {},
     "output_type": "execute_result"
    }
   ],
   "source": [
    "dis[0][1]"
   ]
  },
  {
   "cell_type": "code",
   "execution_count": 229,
   "metadata": {},
   "outputs": [],
   "source": [
    "#import pandas as pd\n",
    "import matplotlib\n",
    "from math import sqrt\n",
    "SPINE_COLOR = 'gray'"
   ]
  },
  {
   "cell_type": "code",
   "execution_count": 281,
   "metadata": {},
   "outputs": [],
   "source": [
    "def latexify(fig_width=None, fig_height=None, columns=1):\n",
    "    \"\"\"Set up matplotlib's RC params for LaTeX plotting.\n",
    "    Call this before plotting a figure.\n",
    "\n",
    "    Parameters\n",
    "    ----------\n",
    "    fig_width : float, optional, inches\n",
    "    fig_height : float,  optional, inches\n",
    "    columns : {1, 2}\n",
    "    \"\"\"\n",
    "\n",
    "    # code adapted from http://www.scipy.org/Cookbook/Matplotlib/LaTeX_Examples\n",
    "\n",
    "    # Width and max height in inches for IEEE journals taken from\n",
    "    # computer.org/cms/Computer.org/Journal%20templates/transactions_art_guide.pdf\n",
    "\n",
    "    assert(columns in [1,2])\n",
    "\n",
    "    if fig_width is None:\n",
    "        fig_width = 3.39 if columns==1 else 6.9 # width in inches\n",
    "\n",
    "    if fig_height is None:\n",
    "        golden_mean = (sqrt(5)-1.0)/2.0    # Aesthetic ratio\n",
    "        fig_height = fig_width*golden_mean # height in inches\n",
    "\n",
    "    MAX_HEIGHT_INCHES = 8.0\n",
    "    if fig_height > MAX_HEIGHT_INCHES:\n",
    "        print(\"WARNING: fig_height too large:\" + fig_height + \n",
    "              \"so will reduce to\" + MAX_HEIGHT_INCHES + \"inches.\")\n",
    "        fig_height = MAX_HEIGHT_INCHES\n",
    "\n",
    "    params = {'backend': 'ps',\n",
    "              'text.latex.preamble': ['\\\\usepackage{gensymb}'],\n",
    "              'axes.labelsize': 14, # fontsize for x and y labels (was 10)\n",
    "              'axes.titlesize': 14,\n",
    "#              'text.fontsize': 10, # was 10\n",
    "              'legend.fontsize': 14, # was 10\n",
    "              'xtick.labelsize': 14,\n",
    "              'ytick.labelsize': 14,\n",
    "              'text.usetex': True,\n",
    "              'figure.figsize': [fig_width,fig_height],\n",
    "              'font.family': 'serif'\n",
    "    }\n",
    "\n",
    "    matplotlib.rcParams.update(params)\n",
    "\n",
    "\n",
    "def format_axes(ax):\n",
    "\n",
    "    for spine in ['top', 'right']:\n",
    "        ax.spines[spine].set_visible(False)\n",
    "\n",
    "    for spine in ['left', 'bottom']:\n",
    "        ax.spines[spine].set_color(SPINE_COLOR)\n",
    "        ax.spines[spine].set_linewidth(0.5)\n",
    "\n",
    "    ax.xaxis.set_ticks_position('bottom')\n",
    "    ax.yaxis.set_ticks_position('left')\n",
    "\n",
    "    for axis in [ax.xaxis, ax.yaxis]:\n",
    "        axis.set_tick_params(direction='out', color=SPINE_COLOR)\n",
    "\n",
    "    return ax"
   ]
  },
  {
   "cell_type": "code",
   "execution_count": 282,
   "metadata": {},
   "outputs": [],
   "source": [
    "width = 12.9\n",
    "format_axes(ax)\n",
    "latexify(width, width*(sqrt(5)-1.0)/2.0 )"
   ]
  },
  {
   "cell_type": "code",
   "execution_count": null,
   "metadata": {},
   "outputs": [],
   "source": []
  }
 ],
 "metadata": {
  "kernelspec": {
   "display_name": "Python 3",
   "language": "python",
   "name": "python3"
  },
  "language_info": {
   "codemirror_mode": {
    "name": "ipython",
    "version": 3
   },
   "file_extension": ".py",
   "mimetype": "text/x-python",
   "name": "python",
   "nbconvert_exporter": "python",
   "pygments_lexer": "ipython3",
   "version": "3.7.2"
  }
 },
 "nbformat": 4,
 "nbformat_minor": 2
}
