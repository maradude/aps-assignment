{
 "cells": [
  {
   "cell_type": "markdown",
   "metadata": {},
   "source": [
    " ## Marking criteria\n",
    " \n",
    "In all cases, marks will be assigned for correctness. In addition, marks will be given for novelty, rigour, insight, and clarity for the report portions of the assessment, while good coding practices (e.g., comments) will be required to achieve full marks for implementation.\n",
    " \n",
    " Done | Task | Expected Deliverable | Marks Available\n",
    " -----|------|----------------------|----------------\n",
    " | 1.1 | implementation, report - pseudocode, description, correctness, complexity | 5\n",
    " | 1.2 | implementation, report - pseudocode, description, correctness, complexity | 5\n",
    " | 2.1 | implementation | 8\n",
    " | 2.2 | report - complexity | 4\n",
    " | 2.3 | report - complexity | 4\n",
    " | 2.4 | report - evaluation | 7\n",
    " | 3.1 | implementation | 6\n",
    " | 3.2 | report - correctness, complexity | 4\n",
    " | 4.1 | report - pseudocode, complexity | 4\n",
    " | 4.2 | report - complexity | 5\n",
    " | 4.3, 5.1 | implementation | 14\n",
    " | 5.2 | report - pseudocode, implementation | 5\n",
    " | 5.3 | report - evaluation | 6\n",
    " | 5.4 | implementation, report - approach | 5\n",
    " | 5.5 | implementation, report - approach, pseudocode, evaluation | 9\n",
    " | 5.6 | implementation, report - approach, evaluation | 9\n"
   ]
  },
  {
   "cell_type": "markdown",
   "metadata": {},
   "source": [
    "## Analysis of tasks\n",
    "\n",
    "- 8–9 implementations\n",
    "- 5 pseudocodes\n",
    "- 7 complexities\n",
    "- 3 correctness\n",
    "- 4 evaluations\n",
    "- 3 approaches\n"
   ]
  },
  {
   "cell_type": "code",
   "execution_count": 9,
   "metadata": {},
   "outputs": [
    {
     "data": {
      "text/latex": [
       "pass\n"
      ],
      "text/plain": [
       "<IPython.core.display.Latex object>"
      ]
     },
     "metadata": {},
     "output_type": "display_data"
    }
   ],
   "source": [
    "%%latex\n",
    "pass"
   ]
  },
  {
   "cell_type": "markdown",
   "metadata": {},
   "source": [
    "### 1.1\n",
    "\n",
    "> Θ(n) time for both adding n items to the list, and for querying the list. Implement your approach using the input and output described in Task 2.1."
   ]
  },
  {
   "cell_type": "code",
   "execution_count": 12,
   "metadata": {},
   "outputs": [],
   "source": [
    "# implementation\n",
    "def linear_array_insert(array, value):\n",
    "    \"\"\"\n",
    "    params: a sorted arrya of values: List[orderable],\n",
    "            a value to insert: orderable\n",
    "    return: the sorted array with a new value inserted -> List[orderable]\n",
    "    \"\"\"\n",
    "    pass\n",
    "\n",
    "def linear_range_search(array, lbound, ubound):\n",
    "    \"\"\"\n",
    "    params: a sorted array: List[orderable],\n",
    "            lower bound value: orderable\n",
    "            upper bound value: orderable\n",
    "    return: all values from array that are larger than\n",
    "            upper bound and smaller than lower bound sorted\n",
    "            in accending order -> List[orderable]\n",
    "    \"\"\"\n",
    "    pass"
   ]
  },
  {
   "cell_type": "markdown",
   "metadata": {},
   "source": [
    "#### Pseudocode \n",
    "latex goes here"
   ]
  },
  {
   "cell_type": "markdown",
   "metadata": {},
   "source": [
    "#### English description\n",
    "paragraph here"
   ]
  },
  {
   "cell_type": "markdown",
   "metadata": {},
   "source": [
    "#### Proof of correctness\n",
    "math here"
   ]
  },
  {
   "cell_type": "markdown",
   "metadata": {},
   "source": [
    "#### Proof of complexity\n",
    "math here"
   ]
  },
  {
   "cell_type": "markdown",
   "metadata": {},
   "source": [
    "### 1.2 \n",
    "\n",
    "> Θ(n log n) for adding a new element to the list, and Θ(k + log n) time for querying, where k is the number of elements returned by the query. Implement your approach using the input and output described in Task 2.1."
   ]
  },
  {
   "cell_type": "code",
   "execution_count": 13,
   "metadata": {},
   "outputs": [],
   "source": [
    "# implementation\n",
    "def logarithmic_array_insert(array, value):\n",
    "    \"\"\"\n",
    "    params: a sorted array of values: List[orderable],\n",
    "            a value to insert: orderable\n",
    "    return: the sorted array with a new value inserted -> List[orderable]\n",
    "    \"\"\"\n",
    "    pass\n",
    "\n",
    "def logarithmic_range_search(array, lbound, ubound):\n",
    "    \"\"\"\n",
    "    params: a sorted array: List[orderable],\n",
    "            lower bound value: orderable\n",
    "            upper bound value: orderable\n",
    "    return: all values from array that are larger than\n",
    "            upper bound and smaller than lower bound sorted\n",
    "            in accending order -> List[orderable]\n",
    "    \"\"\"\n",
    "    pass"
   ]
  },
  {
   "cell_type": "markdown",
   "metadata": {},
   "source": [
    "#### Pseudocode \n",
    "latex goes here"
   ]
  },
  {
   "cell_type": "markdown",
   "metadata": {},
   "source": [
    "#### English description\n",
    "paragraph here"
   ]
  },
  {
   "cell_type": "markdown",
   "metadata": {},
   "source": [
    "#### Proof of correctness\n",
    "math here"
   ]
  },
  {
   "cell_type": "markdown",
   "metadata": {},
   "source": [
    "#### Proof of complexity\n",
    "math here"
   ]
  },
  {
   "cell_type": "markdown",
   "metadata": {},
   "source": [
    "### 2.1\n",
    "\n",
    "> Implement the `OneDRangeQuery` algorithm. The ﬁrst line of input to your implementation will consist of two numbers, `R` `Q`, with `R` representing the number of elements over which search will take place, and `Q` the number of queries to be posed. The next `R` lines will each contain a single number representing an element to be stored. The ﬁnal `Q` lines of the ﬁle will consist of pairs of numbers (separated by a space), `S` and `F`, which denote the start and end of the search range. Your output should consist of `Q` lines, with each line containing the space separated list of numbers that fall within the range of the qth query. For example, the input:\n",
    "```\n",
    "8\n",
    "2\n",
    "3\n",
    "10\n",
    "23\n",
    "30\n",
    "62\n",
    "47\n",
    "105\n",
    "89\n",
    "7 47\n",
    "10 89\n",
    "```\n",
    "will return the output:\n",
    "`10 23 30 47`"
   ]
  },
  {
   "cell_type": "code",
   "execution_count": null,
   "metadata": {},
   "outputs": [],
   "source": [
    "# implementation\n",
    "\n",
    "def one_d_range_query(tree, lbound, ubound):\n",
    "    \"\"\"\n",
    "    params: tree using branches _splitting values_ and leaves of actual values: List[orderable]?\n",
    "            lower bound: orderable\n",
    "            upper bound: orderable\n",
    "    return: sorted arrya of values in tree between lbound and ubound in order -> List[orderable]\n",
    "    \"\"\"\n",
    "    pass"
   ]
  },
  {
   "cell_type": "markdown",
   "metadata": {},
   "source": [
    "### 2.2\n",
    "\n",
    "> Describe/prove the complexity of initially building the tree from the list."
   ]
  },
  {
   "cell_type": "markdown",
   "metadata": {},
   "source": [
    "#### Compexity proof\n",
    "math goes here"
   ]
  },
  {
   "cell_type": "markdown",
   "metadata": {},
   "source": [
    "### 2.3\n",
    "> Describe/prove the complexity of performing a single query using the algorithm."
   ]
  },
  {
   "cell_type": "markdown",
   "metadata": {},
   "source": [
    "#### complexity proof\n",
    "math goes here"
   ]
  },
  {
   "cell_type": "markdown",
   "metadata": {},
   "source": [
    "### 2.4\n",
    "> Finally, compare the average case complexity of the three approaches you have implemented (in tasks\n",
    "1.1, 1.2 and 2.1). To do this, evaluate the time taken to construct lists of diﬀerent sizes, and then do multiple random queries for each list, averaging the runtime. Plot these on a graph. Marks will be given for the depth of analysis undertaken here (e.g., error bars etc will provide additional marks). If the results diﬀer greatly for each approach, discuss the type of workload that they might be appropriate for."
   ]
  },
  {
   "cell_type": "markdown",
   "metadata": {},
   "source": [
    "#### Runtime\n",
    "graphs go here"
   ]
  },
  {
   "cell_type": "markdown",
   "metadata": {},
   "source": [
    "#### Impliciations of results\n",
    "if results differ greatly, then where would each appraoch be applicable (e.g. size of n)\n",
    "otherwise say no"
   ]
  },
  {
   "cell_type": "markdown",
   "metadata": {},
   "source": [
    "### 3.1\n",
    "> Describe and implement a simple algorithm to perform a multi-dimensional range query. More specifically, this algorithm should check if every point is within the range rectangle."
   ]
  },
  {
   "cell_type": "code",
   "execution_count": 16,
   "metadata": {},
   "outputs": [],
   "source": [
    "# implementation\n",
    "def k_dimension_range_query(array, lbound, ubound):\n",
    "    \"\"\"\n",
    "    params: sorted array of k-sized arrays containing orderables: List[List[orderable]]\n",
    "            lower bound is a k-sized array containing orderables: List[orderable]\n",
    "            higher bound is a k-sized tuple containing orderables: List[orderable]\n",
    "    return: a sorted array of arrays which are within the bounds: List[List[orderable]]\n",
    "    \"\"\"\n",
    "    pass"
   ]
  },
  {
   "cell_type": "markdown",
   "metadata": {},
   "source": [
    "#### Description of algorithm\n",
    "English version of above"
   ]
  },
  {
   "cell_type": "markdown",
   "metadata": {},
   "source": [
    "### 3.2\n",
    "> Prove the correctness of your algorithm, and derive its worst case complexity."
   ]
  },
  {
   "cell_type": "markdown",
   "metadata": {},
   "source": [
    "#### Correctness and worst case complexity\n",
    "math goes here"
   ]
  },
  {
   "cell_type": "markdown",
   "metadata": {},
   "source": [
    "### 4.1\n",
    "> Describe an algorithm to compute the median point of a list, and identify its complexity. For even cases, the median point should be rounded down."
   ]
  },
  {
   "cell_type": "markdown",
   "metadata": {},
   "source": [
    "#### Pseudocode\n",
    "latex goes here"
   ]
  },
  {
   "cell_type": "markdown",
   "metadata": {},
   "source": [
    "#### WHAT?\n",
    "you mean a sorted by some logic or an unsorted?"
   ]
  },
  {
   "cell_type": "markdown",
   "metadata": {},
   "source": [
    "### 4.2\n",
    "> By means of a recurrence, compute the time and space complexity of the `BuildKDTree` algorithm, taking into account the complexity of computing the median as described in the previous step."
   ]
  },
  {
   "cell_type": "markdown",
   "metadata": {},
   "source": [
    "### Time and space complexity\n",
    "recurrence goes here"
   ]
  },
  {
   "cell_type": "markdown",
   "metadata": {},
   "source": [
    "### 4.3\n",
    "> Implement the BuildKDTree algorithm. This task will be used as part of a later task, but should be implemented in a separate ﬁle."
   ]
  },
  {
   "cell_type": "code",
   "execution_count": 20,
   "metadata": {},
   "outputs": [],
   "source": [
    "# implementation\n",
    "def build_kd_tree(points, depth):\n",
    "    \"\"\"\n",
    "    params: set of point arrays size k: List[List[orderable]]\n",
    "            current depth: int\n",
    "    return: KD-Tree -> List of Lists? or Object?\n",
    "    \"\"\"\n",
    "    pass"
   ]
  },
  {
   "cell_type": "markdown",
   "metadata": {},
   "source": [
    "### 5.1\n",
    "> Implement the SearchKDTree algorithm (and as part of this, the intersection algorithm)."
   ]
  },
  {
   "cell_type": "code",
   "execution_count": 21,
   "metadata": {},
   "outputs": [],
   "source": [
    "# implementation\n",
    "def search_kd_tree(root, region):\n",
    "    \"\"\"\n",
    "    params: root node of a KD-tree: KD-tree.Node\n",
    "            region is a array of k-size arrays of orderables: List[List[orderable]]\n",
    "    return: values from tree within limits of region: List[List[orderable]]\n",
    "    \"\"\"\n",
    "    pass\n",
    "\n",
    "def intersection(min_max1, min_max2):\n",
    "    \"\"\"\n",
    "    params: ...\n",
    "    return: ...\n",
    "    \"\"\"\n",
    "    pass"
   ]
  },
  {
   "cell_type": "markdown",
   "metadata": {},
   "source": [
    "### 5.2\n",
    "> Provide pseudocode for, and implement the ”is fully contained within” portion of the SearchKDTree algorithm."
   ]
  },
  {
   "cell_type": "markdown",
   "metadata": {},
   "source": [
    "#### Pseudocode\n",
    "latex goes here"
   ]
  },
  {
   "cell_type": "code",
   "execution_count": null,
   "metadata": {},
   "outputs": [],
   "source": [
    "# implementation\n",
    "def is_fully_contained_within():\n",
    "    \"\"\"\n",
    "    params: ...\n",
    "    return: ...\n",
    "    \"\"\"\n",
    "    pass"
   ]
  },
  {
   "cell_type": "markdown",
   "metadata": {},
   "source": [
    "### 5.3\n",
    "> Compare the runtime of the naive implementation with the SearchKDTree algorithm both using, and omitting the ”is fully contained within” part of the code. You should evaluate this over diﬀerent numbers of dimensions, and diﬀerent numbers of points."
   ]
  },
  {
   "cell_type": "markdown",
   "metadata": {},
   "source": [
    "#### Runtime\n",
    "graphs go here"
   ]
  },
  {
   "cell_type": "markdown",
   "metadata": {},
   "source": [
    "### 5.4\n",
    "> Describe, and implement, a way to overcome the restriction of each point having a unique coordinate in each dimension."
   ]
  },
  {
   "cell_type": "code",
   "execution_count": 23,
   "metadata": {},
   "outputs": [],
   "source": [
    "# implementation\n",
    "def non_unique_kd_tree_thing(dunno_lol):\n",
    "    \"\"\"\n",
    "    params: ...\n",
    "    return: ...\n",
    "    \"\"\""
   ]
  },
  {
   "cell_type": "markdown",
   "metadata": {},
   "source": [
    "#### Description\n",
    "Approach desription goes here"
   ]
  },
  {
   "cell_type": "markdown",
   "metadata": {},
   "source": [
    "### 5.5\n",
    "> Extend your implementation to search for a circular/spherical/hyper-spherical region instead of a rectangular region. Provide pseudocode for your changes, and evaluate its runtime against rectangular regions. Input for this task is as above, except that queries consist of one list and a radius, e.g., \\[3 3] 4 denotes a circle centred at (3,3) with radius 4."
   ]
  },
  {
   "cell_type": "code",
   "execution_count": 25,
   "metadata": {},
   "outputs": [],
   "source": [
    "# implementation\n",
    "def radius_kd_tree_thing(dunno_lol):\n",
    "    \"\"\"\n",
    "    params: ...\n",
    "    return: ...\n",
    "    \"\"\""
   ]
  },
  {
   "cell_type": "markdown",
   "metadata": {},
   "source": [
    "#### Pseudocode\n",
    "latex goes here"
   ]
  },
  {
   "cell_type": "markdown",
   "metadata": {},
   "source": [
    "#### Runtime\n",
    "graphs go here"
   ]
  },
  {
   "cell_type": "markdown",
   "metadata": {},
   "source": [
    "#### Description\n",
    "Approach description goes here"
   ]
  },
  {
   "cell_type": "markdown",
   "metadata": {},
   "source": [
    "### 5.6\n",
    "> Extend your implementation to search for points within a convex polygonal region of your space, and evaluate its runtime against rectangular and spherical regions. Input for this task is as above, except that queries do not consist of minimum and maximum coordinates, but rather an ordered list of points deﬁning the polygon. For example input query \\[3 3] [3 5] [5 5] [5 3] denotes a square with corner coordinates (3, 3), (3, 5), (5, 5) and (5, 3)."
   ]
  },
  {
   "cell_type": "code",
   "execution_count": 27,
   "metadata": {},
   "outputs": [],
   "source": [
    "# implementation\n",
    "def convex_polygonal_kd_tree_thing():\n",
    "    \"\"\"\n",
    "    params: ...\n",
    "    return: ...\n",
    "    \"\"\"\n",
    "    pass"
   ]
  },
  {
   "cell_type": "markdown",
   "metadata": {},
   "source": [
    "#### Description\n",
    "Approach goes here"
   ]
  },
  {
   "cell_type": "markdown",
   "metadata": {},
   "source": [
    "#### Runtime\n",
    "graphs go here"
   ]
  }
 ],
 "metadata": {
  "kernelspec": {
   "display_name": "Python 3",
   "language": "python",
   "name": "python3"
  },
  "language_info": {
   "codemirror_mode": {
    "name": "ipython",
    "version": 3
   },
   "file_extension": ".py",
   "mimetype": "text/x-python",
   "name": "python",
   "nbconvert_exporter": "python",
   "pygments_lexer": "ipython3",
   "version": "3.7.2"
  }
 },
 "nbformat": 4,
 "nbformat_minor": 2
}
